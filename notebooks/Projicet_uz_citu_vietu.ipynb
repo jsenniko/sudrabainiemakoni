{
 "cells": [
  {
   "cell_type": "code",
   "execution_count": null,
   "id": "ebe7e9f4",
   "metadata": {},
   "outputs": [],
   "source": [
    "import pandas as pd\n",
    "import numpy as np\n",
    "import sys, os\n",
    "import matplotlib\n",
    "import matplotlib.pyplot as plt\n",
    "import skimage.io\n",
    "# ceļu norādīt nevajag, ja pakotne ir instalēta\n",
    "documentpath=os.getcwd()\n",
    "libpath=os.path.abspath(os.path.join(documentpath, os.pardir))\n",
    "sys.path.append(libpath)\n",
    "from sudrabainiemakoni.cloudimage import CloudImage\n",
    "from sudrabainiemakoni.cloudimage import Reprojector_to_Camera\n",
    "from sudrabainiemakoni.cloudimage import Camera\n",
    "\n",
    "from sudrabainiemakoni import plots\n",
    "from sudrabainiemakoni import utils"
   ]
  },
  {
   "cell_type": "code",
   "execution_count": null,
   "id": "72f0d1f5",
   "metadata": {},
   "outputs": [],
   "source": [
    "# katalogs ar piemēra failiem\n",
    "sample_directory = 'SampleData'\n",
    "# katalogs ar rezultātu failiem\n",
    "results_directory = 'SampleResults'\n",
    "# pirmais attēls\n",
    "case1 = 'js_202206220100'\n",
    "# otrais attēls\n",
    "case2 = 'IMG_3916'"
   ]
  },
  {
   "cell_type": "code",
   "execution_count": null,
   "id": "7b14f0ad",
   "metadata": {},
   "outputs": [],
   "source": [
    "# ielasām divus referencētus attēlus\n",
    "cldim1 = CloudImage.load(f'{results_directory}/{case1}.proj')\n",
    "cldim2 = CloudImage.load(f'{results_directory}/{case2}.proj')"
   ]
  },
  {
   "cell_type": "code",
   "execution_count": null,
   "id": "8bbb9b9b",
   "metadata": {},
   "outputs": [],
   "source": [
    "# oriģinālie attēli\n",
    "fig, ax = plt.subplots(1,2, figsize=(20,10))\n",
    "ax[0].imshow(cldim2.imagearray)\n",
    "ax[1].imshow(cldim1.imagearray)\n",
    "plt.show()"
   ]
  },
  {
   "cell_type": "code",
   "execution_count": null,
   "id": "62d70b75",
   "metadata": {},
   "outputs": [],
   "source": [
    "# izveidojam projekcijas objektu - 1.parameters attēls, kuru projicēs, 2.parametrs - kamera ecef koordinātes -šajā gadījumā no otrā attēla\n",
    "rp = Reprojector_to_Camera(cldim1, cldim2.camera.camera_ecef)"
   ]
  },
  {
   "cell_type": "code",
   "execution_count": null,
   "id": "54165015",
   "metadata": {},
   "outputs": [],
   "source": [
    "# projicējam attēlu\n",
    "height = 81\n",
    "rp.prepare_reproject(height)\n",
    "projected_image = rp.Fill_projectedImage()"
   ]
  },
  {
   "cell_type": "code",
   "execution_count": null,
   "id": "cb419617",
   "metadata": {},
   "outputs": [],
   "source": [
    "# uzzīmējam blakus projicētos attēlus\n",
    "fig, ax = plt.subplots(1,2, figsize=(20,10))\n",
    "ax[0].imshow(cldim2.imagearray)\n",
    "ax[0].grid()\n",
    "ax[1].imshow(projected_image)\n",
    "ax[1].grid()\n",
    "plt.show()"
   ]
  },
  {
   "cell_type": "code",
   "execution_count": null,
   "id": "c788a9fd",
   "metadata": {},
   "outputs": [],
   "source": [
    "#izveidojam kombinētus attēlus\n",
    "img_mean, img_diff, _, img_bicolor = utils.getAverageImages([projected_image,cldim2.imagearray])"
   ]
  },
  {
   "cell_type": "code",
   "execution_count": null,
   "id": "ce12b286",
   "metadata": {},
   "outputs": [],
   "source": [
    "fig, ax = plt.subplots(1,2, figsize=(20,10))\n",
    "ax[0].imshow(img_diff)\n",
    "ax[0].grid()\n",
    "ax[1].imshow(img_bicolor[(0,1)])\n",
    "ax[1].grid()\n",
    "plt.show()"
   ]
  },
  {
   "cell_type": "markdown",
   "id": "74bed626",
   "metadata": {},
   "source": [
    "# Projekcija uz patvaļīgu garuma/platuma punktu un kameras skatu"
   ]
  },
  {
   "cell_type": "code",
   "execution_count": null,
   "id": "0af16d66",
   "metadata": {},
   "outputs": [],
   "source": [
    "# testam\n",
    "#az, el, rot = cldim1.camera.get_azimuth_elevation_rotation()\n",
    "#lat, lon = cldim1.location.lat, cldim1.location.lon\n",
    "#image_width, image_height = cldim1.imagearray.shape[1], cldim1.imagearray.shape[0]\n",
    "#focallength_35mm = 24.0\n",
    "# novērotāja koordinātes\n",
    "lat, lon = 57.5, 27.0\n",
    "# kameras skata leņķi\n",
    "az, el, rot =  350, 30, 0\n",
    "# kameras parametri\n",
    "image_width, image_height = 1500, 1000\n",
    "focallength_35mm = 24.0\n",
    "# novērotāja koordinātes\n",
    "#lat, lon = 59.3, 27.8\n",
    "# kameras skata leņķi\n",
    "#az, el, rot =  240, 40, 0\n",
    "# kameras parametri\n",
    "#image_width, image_height = 1500, 1000\n",
    "#focallength_35mm = 24.0"
   ]
  },
  {
   "cell_type": "code",
   "execution_count": null,
   "id": "fa048e4d",
   "metadata": {},
   "outputs": [],
   "source": [
    "camera_enu, camera_ecef = Camera.make_cameras(lat,lon, 0.0, image_width, image_height, focallength_35mm, az,el,rot)"
   ]
  },
  {
   "cell_type": "code",
   "execution_count": null,
   "id": "78dc8a5c",
   "metadata": {},
   "outputs": [],
   "source": [
    "rp = Reprojector_to_Camera(cldim1, camera_ecef)\n",
    "cloudheight = 81\n",
    "rp.prepare_reproject(cloudheight)\n",
    "projected_image = rp.Fill_projectedImage()"
   ]
  },
  {
   "cell_type": "code",
   "execution_count": null,
   "id": "a3a6953d",
   "metadata": {},
   "outputs": [],
   "source": [
    "aazgrid = Camera.GetAltAzGrid_fromcamera(image_width, image_height, camera_enu)"
   ]
  },
  {
   "cell_type": "code",
   "execution_count": null,
   "id": "cd0d4b00",
   "metadata": {
    "scrolled": true
   },
   "outputs": [],
   "source": [
    "# uzzīmējam blakus projicētos attēlus\n",
    "fig, ax = plt.subplots(1,2, figsize=(20,10))\n",
    "ax[0].imshow(cldim1.imagearray)\n",
    "ax[0].grid()\n",
    "ax[1].imshow(projected_image)\n",
    "plots.DrawAltAzGrid(ax[1], aazgrid)\n",
    "ax[1].set_yticklabels([])\n",
    "ax[1].set_xticklabels([])\n",
    "ax[1].set_yticks([])\n",
    "ax[1].set_xticks([])\n",
    "plt.show()"
   ]
  }
 ],
 "metadata": {
  "kernelspec": {
   "display_name": "Python 3 (ipykernel)",
   "language": "python",
   "name": "python3"
  },
  "language_info": {
   "codemirror_mode": {
    "name": "ipython",
    "version": 3
   },
   "file_extension": ".py",
   "mimetype": "text/x-python",
   "name": "python",
   "nbconvert_exporter": "python",
   "pygments_lexer": "ipython3",
   "version": "3.10.4"
  }
 },
 "nbformat": 4,
 "nbformat_minor": 5
}
