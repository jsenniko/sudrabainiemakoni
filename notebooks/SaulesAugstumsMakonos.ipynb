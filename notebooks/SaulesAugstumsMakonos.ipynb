{
 "cells": [
  {
   "cell_type": "code",
   "execution_count": 1,
   "id": "cordless-growing",
   "metadata": {},
   "outputs": [],
   "source": [
    "import pandas as pd\n",
    "import numpy as np\n",
    "import sys, os\n",
    "import matplotlib.pyplot as plt\n",
    "# ceļu norādīt nevajag, ja pakotne ir instalēta\n",
    "documentpath=os.getcwd()\n",
    "libpath=os.path.abspath(os.path.join(documentpath, os.pardir))\n",
    "sys.path.append(libpath)\n",
    "from sudrabainiemakoni.cloudimage import CloudImage\n",
    "from sudrabainiemakoni.cloudimage import WebMercatorImage\n",
    "from sudrabainiemakoni import plots"
   ]
  },
  {
   "cell_type": "code",
   "execution_count": 2,
   "id": "upper-salem",
   "metadata": {},
   "outputs": [],
   "source": [
    "# katalogs ar piemēra failiem\n",
    "sample_directory = 'SampleData'\n",
    "# katalogs ar rezultātu failiem\n",
    "results_directory = 'SampleResults'\n",
    "case_id = 'js_202106210100'"
   ]
  },
  {
   "cell_type": "code",
   "execution_count": 3,
   "id": "functioning-italian",
   "metadata": {},
   "outputs": [],
   "source": [
    "cldim = CloudImage.load(f'{results_directory}/{case_id}.proj')"
   ]
  },
  {
   "cell_type": "code",
   "execution_count": 4,
   "id": "horizontal-monster",
   "metadata": {},
   "outputs": [],
   "source": [
    "webmerc = WebMercatorImage.load(f'{results_directory}/{case_id}.webmerc', cloudImage=cldim)"
   ]
  },
  {
   "cell_type": "code",
   "execution_count": 6,
   "id": "deluxe-ukraine",
   "metadata": {},
   "outputs": [],
   "source": [
    "import pymap3d\n",
    "height=80000\n",
    "#dir(webmerc)"
   ]
  },
  {
   "cell_type": "code",
   "execution_count": 9,
   "id": "sustained-latex",
   "metadata": {},
   "outputs": [],
   "source": [
    "x,y,z = pymap3d.geodetic2ecef(webmerc.lat_grid, webmerc.lon_grid, height)"
   ]
  },
  {
   "cell_type": "code",
   "execution_count": 10,
   "id": "backed-peace",
   "metadata": {},
   "outputs": [
    {
     "data": {
      "text/plain": [
       "['AAZImage',\n",
       " 'GetAAzCoord',\n",
       " 'GetAltAzGrid',\n",
       " 'GetAltAzGrid_fromcamera',\n",
       " 'GetDirection',\n",
       " 'GetEarthLocation',\n",
       " 'GetImageRaDecGrid',\n",
       " 'GetWCS',\n",
       " 'Initialize_AltAzImage',\n",
       " 'LoadCamera',\n",
       " 'LoadImage',\n",
       " 'PrepareAltAZImage_throughRA',\n",
       " 'PrepareCamera',\n",
       " 'SaveCamera',\n",
       " 'TestStarFit',\n",
       " '_CloudImage__imagearray',\n",
       " '__class__',\n",
       " '__delattr__',\n",
       " '__dict__',\n",
       " '__dir__',\n",
       " '__doc__',\n",
       " '__eq__',\n",
       " '__format__',\n",
       " '__ge__',\n",
       " '__getattribute__',\n",
       " '__getstate__',\n",
       " '__gt__',\n",
       " '__hash__',\n",
       " '__init__',\n",
       " '__init_subclass__',\n",
       " '__le__',\n",
       " '__lt__',\n",
       " '__module__',\n",
       " '__ne__',\n",
       " '__new__',\n",
       " '__reduce__',\n",
       " '__reduce_ex__',\n",
       " '__repr__',\n",
       " '__setattr__',\n",
       " '__sizeof__',\n",
       " '__str__',\n",
       " '__subclasshook__',\n",
       " '__weakref__',\n",
       " 'aazgrid',\n",
       " 'altaz',\n",
       " 'camera',\n",
       " 'code',\n",
       " 'date',\n",
       " 'filename',\n",
       " 'getPixelCoords',\n",
       " 'getSkyCoords',\n",
       " 'get_stars_enu_unit_coords',\n",
       " 'imageArrayGrid',\n",
       " 'imagearray',\n",
       " 'initialize',\n",
       " 'itrs',\n",
       " 'load',\n",
       " 'location',\n",
       " 'prepareCoordinateSystems',\n",
       " 'radecgrid',\n",
       " 'save',\n",
       " 'setDate',\n",
       " 'setDateFromExif',\n",
       " 'setLocation',\n",
       " 'setStarReferences',\n",
       " 'starReferences',\n",
       " 'timezone']"
      ]
     },
     "execution_count": 10,
     "metadata": {},
     "output_type": "execute_result"
    }
   ],
   "source": [
    "dir(cldim)"
   ]
  },
  {
   "cell_type": "code",
   "execution_count": 12,
   "id": "seventh-modem",
   "metadata": {},
   "outputs": [
    {
     "data": {
      "text/plain": [
       "<ITRS Frame (obstime=2021-06-20 22:00:15)>"
      ]
     },
     "execution_count": 12,
     "metadata": {},
     "output_type": "execute_result"
    }
   ],
   "source": [
    "cldim.itrs"
   ]
  },
  {
   "cell_type": "code",
   "execution_count": null,
   "id": "legal-steering",
   "metadata": {},
   "outputs": [],
   "source": []
  }
 ],
 "metadata": {
  "kernelspec": {
   "display_name": "Python 3",
   "language": "python",
   "name": "python3"
  },
  "language_info": {
   "codemirror_mode": {
    "name": "ipython",
    "version": 3
   },
   "file_extension": ".py",
   "mimetype": "text/x-python",
   "name": "python",
   "nbconvert_exporter": "python",
   "pygments_lexer": "ipython3",
   "version": "3.9.2"
  }
 },
 "nbformat": 4,
 "nbformat_minor": 5
}
