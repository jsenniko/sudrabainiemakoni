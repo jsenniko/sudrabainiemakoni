{
 "cells": [
  {
   "cell_type": "code",
   "execution_count": null,
   "id": "4a0c814a",
   "metadata": {},
   "outputs": [],
   "source": [
    "import pandas as pd\n",
    "import numpy as np\n",
    "import sys, os\n",
    "import matplotlib\n",
    "import matplotlib.pyplot as plt\n",
    "import pymap3d\n",
    "import astropy\n",
    "# ceļu norādīt nevajag, ja pakotne ir instalēta\n",
    "documentpath=os.getcwd()\n",
    "libpath=os.path.abspath(os.path.join(documentpath, os.pardir))\n",
    "sys.path.append(libpath)\n",
    "from sudrabainiemakoni.cloudimage import CloudImage\n",
    "from sudrabainiemakoni.cloudimage import WebMercatorImage\n",
    "from sudrabainiemakoni import plots\n",
    "from sudrabainiemakoni import geoutils\n",
    "import geoutils\n",
    "matplotlib.rcParams.update({'font.size': 20})"
   ]
  },
  {
   "cell_type": "code",
   "execution_count": null,
   "id": "regulated-uruguay",
   "metadata": {},
   "outputs": [],
   "source": [
    "# katalogs ar piemēra failiem\n",
    "sample_directory = 'SampleData'\n",
    "# katalogs ar rezultātu failiem\n",
    "results_directory = 'SampleResults'\n",
    "# pirmais attēls\n",
    "case1 = 'js_202106210100'\n",
    "case1 = 'js_202207100100'\n"
   ]
  },
  {
   "cell_type": "code",
   "execution_count": null,
   "id": "31d14fcf",
   "metadata": {},
   "outputs": [],
   "source": [
    "cldim = CloudImage.load(f'{results_directory}/{case1}.proj')"
   ]
  },
  {
   "cell_type": "code",
   "execution_count": null,
   "id": "amateur-posting",
   "metadata": {},
   "outputs": [],
   "source": [
    "height_km = 80"
   ]
  },
  {
   "cell_type": "code",
   "execution_count": null,
   "id": "50df75e0",
   "metadata": {},
   "outputs": [],
   "source": [
    "webmerc=WebMercatorImage(cldim, 15,35,57,63,1)"
   ]
  },
  {
   "cell_type": "code",
   "execution_count": null,
   "id": "011abf7b",
   "metadata": {},
   "outputs": [],
   "source": [
    "webmerc.prepare_reproject_from_camera(height_km)"
   ]
  },
  {
   "cell_type": "code",
   "execution_count": null,
   "id": "1a4a8b3f",
   "metadata": {},
   "outputs": [],
   "source": [
    "projected_image_hght=webmerc.Fill_projectedImageMasked()"
   ]
  },
  {
   "cell_type": "code",
   "execution_count": null,
   "id": "00f13e59",
   "metadata": {},
   "outputs": [],
   "source": [
    "def sunlit_cloudimage(cldim, height_km, astropy_date):\n",
    "    i_grid, j_grid = cldim.imageArrayGrid()\n",
    "    grid_points=np.array([i_grid.flatten(), j_grid.flatten()]).T\n",
    "    cam = cldim.camera.camera_ecef\n",
    "    center, rays = cam.getRay(grid_points, normed=True)\n",
    "    ray_coords=rays.T\n",
    "    xyz = geoutils.los_to_earth(*center,*ray_coords, height_km*1000, to_earth=False)\n",
    "    is_sunlit=geoutils.get_is_sunlit(xyz[0],xyz[1],xyz[2],astropy_date)\n",
    "    is_sunlit=is_sunlit.reshape(i_grid.shape)\n",
    "    return is_sunlit"
   ]
  },
  {
   "cell_type": "code",
   "execution_count": null,
   "id": "29d4370d",
   "metadata": {},
   "outputs": [],
   "source": [
    "def get_sunlit_grid(webmerc, astropy_date, height):\n",
    "    lat=webmerc.lat_grid\n",
    "    lon=webmerc.lon_grid\n",
    "\n",
    "    sunlit_grid=geoutils.get_is_sunlit_latlon(lat,lon,height,astropy_date)\n",
    "    return sunlit_grid"
   ]
  },
  {
   "cell_type": "code",
   "execution_count": null,
   "id": "formed-slave",
   "metadata": {},
   "outputs": [],
   "source": [
    "sunlit_grid = get_sunlit_grid(webmerc, cldim.date, height_km*1000.0)"
   ]
  },
  {
   "cell_type": "code",
   "execution_count": null,
   "id": "liked-tomato",
   "metadata": {},
   "outputs": [],
   "source": [
    "map_lonmin, map_lonmax, map_latmin, map_latmax = 16,32,56,63\n",
    "plots.PlotReferencedImages(webmerc, [projected_image_hght, sunlit_grid],  \n",
    "                               outputFileName=None,\n",
    "                               lonmin=map_lonmin, lonmax=map_lonmax, latmin=map_latmin, latmax=map_latmax,\n",
    "                               showplot=True,\n",
    "                               alpha=[0.8,0.2])"
   ]
  },
  {
   "cell_type": "code",
   "execution_count": null,
   "id": "fd8acb02",
   "metadata": {},
   "outputs": [],
   "source": [
    "sunlit1=sunlit_cloudimage(cldim, height_km, cldim.date)"
   ]
  },
  {
   "cell_type": "code",
   "execution_count": null,
   "id": "d159d2e9",
   "metadata": {},
   "outputs": [],
   "source": [
    "t_j = np.argmax(sunlit1, axis=0)\n",
    "sun_line=(np.arange(sunlit1.shape[1]),t_j)"
   ]
  },
  {
   "cell_type": "code",
   "execution_count": null,
   "id": "c1221dcf",
   "metadata": {},
   "outputs": [],
   "source": [
    "arrowprops=dict(arrowstyle='->', color='black', linewidth=2)\n",
    "fig, ax=plt.subplots(figsize=(20,10))\n",
    "ax.imshow(cldim.imagearray)\n",
    "ax.plot(sun_line[0], sun_line[1], color='green')\n",
    "ax.set_xticks([])\n",
    "ax.set_yticks([])\n",
    "plt.show()"
   ]
  },
  {
   "cell_type": "code",
   "execution_count": null,
   "id": "alternate-hebrew",
   "metadata": {},
   "outputs": [],
   "source": []
  }
 ],
 "metadata": {
  "kernelspec": {
   "display_name": "Python 3",
   "language": "python",
   "name": "python3"
  },
  "language_info": {
   "codemirror_mode": {
    "name": "ipython",
    "version": 3
   },
   "file_extension": ".py",
   "mimetype": "text/x-python",
   "name": "python",
   "nbconvert_exporter": "python",
   "pygments_lexer": "ipython3",
   "version": "3.9.2"
  }
 },
 "nbformat": 4,
 "nbformat_minor": 5
}
