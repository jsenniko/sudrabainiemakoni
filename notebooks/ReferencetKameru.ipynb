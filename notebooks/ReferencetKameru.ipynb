{
 "cells": [
  {
   "cell_type": "code",
   "execution_count": null,
   "metadata": {},
   "outputs": [],
   "source": [
    "import pandas as pd\n",
    "import numpy as np\n",
    "import sys, os\n",
    "# ceļu norādīt nevajag, ja pakotne ir instalēta\n",
    "documentpath=os.getcwd()\n",
    "libpath=os.path.abspath(os.path.join(documentpath, os.pardir))\n",
    "sys.path.append(libpath)\n",
    "from sudrabainiemakoni.cloudimage import CloudImage\n",
    "from sudrabainiemakoni import plots"
   ]
  },
  {
   "cell_type": "markdown",
   "metadata": {},
   "source": [
    "### Katalogi un failu nosaukumi"
   ]
  },
  {
   "cell_type": "code",
   "execution_count": null,
   "metadata": {},
   "outputs": [],
   "source": [
    "# katalogs ar piemēra failiem\n",
    "sample_directory = 'SampleData'\n",
    "# katalogs ar rezultātu failiem\n",
    "results_directory = 'SampleResults'\n",
    "if not os.path.exists(results_directory):\n",
    "    os.makedirs(results_directory)\n",
    "# sudrabaino mākoņu attēls\n",
    "case_id = 'js_202106210100'\n",
    "filename_jpg = f'{sample_directory}/{case_id}.jpg'\n",
    "# nociparotās zvaigznes\n",
    "filename_stars = f'{sample_directory}/{case_id}_zvaigznes.txt'\n",
    "# ģeogrāfiskais garums platums\n",
    "lat, lon = 56.693, 23.656"
   ]
  },
  {
   "cell_type": "markdown",
   "metadata": {},
   "source": [
    "### Inicializācija, datuma, ģeogrāfisko koordināšu un zvaigžņu uzstādīšana"
   ]
  },
  {
   "cell_type": "code",
   "execution_count": null,
   "metadata": {},
   "outputs": [],
   "source": [
    "#inicializējam CloudImage tipa objektu\n",
    "cldim = CloudImage(case_id, filename_jpg)"
   ]
  },
  {
   "cell_type": "code",
   "execution_count": null,
   "metadata": {},
   "outputs": [],
   "source": [
    "#Norādam datumu, pieprasot to no EXIF\n",
    "cldim.setDateFromExif()"
   ]
  },
  {
   "cell_type": "code",
   "execution_count": null,
   "metadata": {},
   "outputs": [],
   "source": [
    "#Uzstādām novērotāja ģeogrāfisko platumu un garumu (grādos)\n",
    "cldim.setLocation(lat=lat, lon=lon)"
   ]
  },
  {
   "cell_type": "code",
   "execution_count": null,
   "metadata": {},
   "outputs": [],
   "source": [
    "print('UTC:', cldim.date)\n",
    "print(cldim.location.to_geodetic())"
   ]
  },
  {
   "cell_type": "code",
   "execution_count": null,
   "metadata": {},
   "outputs": [],
   "source": [
    "# uzstādām zvaigžņu sarakstu\n",
    "df = pd.read_csv(filename_stars, sep='\\t', header=None)\n",
    "# zvaigžņu nosaukumi pirmajā kolonā\n",
    "starnames = df[0]\n",
    "# atbilstošās pikseļu koordinātes otrajā un trešajā kolonā\n",
    "pixels=np.array(df[[1,2]])\n",
    "cldim.setStarReferences(starnames, pixels)"
   ]
  },
  {
   "cell_type": "code",
   "execution_count": null,
   "metadata": {},
   "outputs": [],
   "source": [
    "# izdrukājam zvaigžņu ekvatoriālās un pikseļu koordinātes pārbaudes nolūkos\n",
    "print(cldim.getSkyCoords())\n",
    "print(cldim.getPixelCoords())"
   ]
  },
  {
   "cell_type": "markdown",
   "metadata": {},
   "source": [
    "### Kameras kalibrēšana"
   ]
  },
  {
   "cell_type": "code",
   "execution_count": null,
   "metadata": {},
   "outputs": [],
   "source": [
    "# kalibrējam kameras novietojumu, izdrukājam referencēšanas kļudu pikseļos (divas pēdējas rindiņas)\n",
    "cldim.PrepareCamera()"
   ]
  },
  {
   "cell_type": "code",
   "execution_count": null,
   "metadata": {},
   "outputs": [],
   "source": [
    "# noglabājam kameras iestatījumus\n",
    "cldim.SaveCamera(f'{results_directory}/{case_id}_kam.json')"
   ]
  },
  {
   "cell_type": "markdown",
   "metadata": {},
   "source": [
    "### Attēls ar horizontālo koordinātu režģi"
   ]
  },
  {
   "cell_type": "code",
   "execution_count": null,
   "metadata": {},
   "outputs": [],
   "source": [
    "plots.PlotAltAzGrid(cldim,   stars = True, showplot=True, from_camera = True)\n",
    "# ja attēls jānoglabā failā, pie parametriem jāpievieno outImageDir = results_directory+'/'"
   ]
  },
  {
   "cell_type": "markdown",
   "metadata": {},
   "source": [
    "### Attēls ar ekvatoriālo koordināšu režģi"
   ]
  },
  {
   "cell_type": "code",
   "execution_count": null,
   "metadata": {},
   "outputs": [],
   "source": [
    "cldim.GetWCS(sip_degree=2, fit_parameters={'projection':'TAN'})"
   ]
  },
  {
   "cell_type": "code",
   "execution_count": null,
   "metadata": {},
   "outputs": [],
   "source": [
    "plots.PlotRADecGrid(cldim,   stars = False, showplot=True )\n",
    "# ja attēls jānoglabā failā, pie parametriem  jāpievieno outImageDir = results_directory+'/'"
   ]
  }
 ],
 "metadata": {
  "kernelspec": {
   "display_name": "Python 3",
   "language": "python",
   "name": "python3"
  },
  "language_info": {
   "codemirror_mode": {
    "name": "ipython",
    "version": 3
   },
   "file_extension": ".py",
   "mimetype": "text/x-python",
   "name": "python",
   "nbconvert_exporter": "python",
   "pygments_lexer": "ipython3",
   "version": "3.9.2"
  }
 },
 "nbformat": 4,
 "nbformat_minor": 1
}
