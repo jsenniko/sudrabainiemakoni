{
 "cells": [
  {
   "cell_type": "code",
   "execution_count": null,
   "id": "breathing-space",
   "metadata": {},
   "outputs": [],
   "source": [
    "import pandas as pd\n",
    "import numpy as np\n",
    "import sys, os\n",
    "import matplotlib.pyplot as plt\n",
    "# ceļu norādīt nevajag, ja pakotne ir instalēta\n",
    "documentpath=os.getcwd()\n",
    "libpath=os.path.abspath(os.path.join(documentpath, os.pardir))\n",
    "sys.path.append(libpath)\n",
    "from sudrabainiemakoni.cloudimage import CloudImage\n",
    "from sudrabainiemakoni.cloudimage import WebMercatorImage\n",
    "from sudrabainiemakoni import plots"
   ]
  },
  {
   "cell_type": "code",
   "execution_count": null,
   "id": "chinese-large",
   "metadata": {},
   "outputs": [],
   "source": [
    "# katalogs ar piemēra failiem\n",
    "sample_directory = 'SampleData'\n",
    "# katalogs ar rezultātu failiem\n",
    "results_directory = 'SampleResults'\n",
    "case_id = 'js_202106210100'"
   ]
  },
  {
   "cell_type": "code",
   "execution_count": null,
   "id": "lyric-representative",
   "metadata": {},
   "outputs": [],
   "source": [
    "# ielasām projektu\n",
    "# piemēra projekta failu var iegūt ar ReferencetKameru izklājloksni\n",
    "cldim = CloudImage.load(f'{results_directory}/{case_id}.proj')"
   ]
  },
  {
   "cell_type": "markdown",
   "id": "retired-gasoline",
   "metadata": {},
   "source": [
    "### Projicētā attēla iegūšana"
   ]
  },
  {
   "cell_type": "code",
   "execution_count": null,
   "id": "intimate-astrology",
   "metadata": {},
   "outputs": [],
   "source": [
    "# projicēšanas apgabals un izšķirtspēja\n",
    "lonmin, lonmax, latmin, latmax, horizontal_resolution_km = 15, 35, 57, 64, 0.5"
   ]
  },
  {
   "cell_type": "code",
   "execution_count": null,
   "id": "interracial-antenna",
   "metadata": {},
   "outputs": [],
   "source": [
    "# sagatavojam projicēšanas objektu\n",
    "webmerc = WebMercatorImage(cldim, lonmin, lonmax, latmin, latmax, horizontal_resolution_km)"
   ]
  },
  {
   "cell_type": "markdown",
   "id": "separated-instrument",
   "metadata": {},
   "source": [
    "Sagatavojam projicēšanu uz noteiktu augstumu - var projicēt arī uz webmerc objekta izšķirtspējai atbilstošo augstumu masīvu. Šādu masīvu var iegūt izgatavojot to no divu attēlu referencēšanas (sk objektu *CloudImagePair*)"
   ]
  },
  {
   "cell_type": "code",
   "execution_count": null,
   "id": "inside-polish",
   "metadata": {},
   "outputs": [],
   "source": [
    "height = 80 # kilometros\n",
    "webmerc.prepare_reproject_from_camera(height)"
   ]
  },
  {
   "cell_type": "markdown",
   "id": "finished-sword",
   "metadata": {},
   "source": [
    "Iegūstam projicēto attēlu masīvā  \n",
    "Tas ir attēls ar masku alpha kanālā, kas maskē telpas apgabalu ārpus oriģinālā attēla  \n",
    "Ja ir nepieciešams pie vienas un tās pašas augstumu kartes projicēt vairākus dažādus attēlus (piem animācijai), tad pietiek vienreiz izsaukt prepare_reproject_from_camera un tad mainīt cldim attēlu (cldim.filename=  cldim.LoadImage(reload=True))"
   ]
  },
  {
   "cell_type": "code",
   "execution_count": null,
   "id": "broadband-charter",
   "metadata": {},
   "outputs": [],
   "source": [
    "projected_image=webmerc.Fill_projectedImageMasked()"
   ]
  },
  {
   "cell_type": "code",
   "execution_count": null,
   "id": "wireless-spencer",
   "metadata": {
    "scrolled": true
   },
   "outputs": [],
   "source": [
    "plt.imshow(projected_image)\n",
    "#projected_image.shape"
   ]
  },
  {
   "cell_type": "markdown",
   "id": "structured-japan",
   "metadata": {},
   "source": [
    "Noglabājam referencētu tiff vai jpg lietošanai GIS programmās (piem. QGIS)  \n",
    "Referencēšanu noglabājam tfw vai jgw tipa teksta failos  \n",
    "Attēls būs WebMercator projekcijā ([EPSG:3857](https://epsg.io/3857)) \n",
    "Ielasot to QGIS ar Layer->Add Layer->Add raster layer, jānorāda atbilstošā koordinātu sistēma."
   ]
  },
  {
   "cell_type": "code",
   "execution_count": null,
   "id": "arctic-audience",
   "metadata": {},
   "outputs": [],
   "source": [
    "import skimage.io\n",
    "fntiff=f\"{results_directory}/proj_{height}_{case_id}.tif\"\n",
    "skimage.io.imsave(fntiff, projected_image)\n",
    "webmerc.SaveJgw(os.path.splitext(fntiff)[0]+'.tfw')"
   ]
  },
  {
   "cell_type": "markdown",
   "id": "balanced-shelf",
   "metadata": {},
   "source": [
    "### Projicētā attēla attēlošana uz OpenStreetMap pamatnes"
   ]
  },
  {
   "cell_type": "code",
   "execution_count": null,
   "id": "stone-tension",
   "metadata": {},
   "outputs": [],
   "source": [
    "map_lonmin, map_lonmax, map_latmin, map_latmax = 15,33,56,64\n",
    "pp=[[cldim.location.lon.value, cldim.location.lat.value]]\n",
    "plots.PlotReferencedImages(webmerc, [projected_image],  camera_points=pp,\n",
    "                               outputFileName=None,\n",
    "                               lonmin=map_lonmin, lonmax=map_lonmax, latmin=map_latmin, latmax=map_latmax,\n",
    "                               showplot=True,\n",
    "                               alpha=0.8)\n"
   ]
  }
 ],
 "metadata": {
  "kernelspec": {
   "display_name": "Python 3",
   "language": "python",
   "name": "python3"
  },
  "language_info": {
   "codemirror_mode": {
    "name": "ipython",
    "version": 3
   },
   "file_extension": ".py",
   "mimetype": "text/x-python",
   "name": "python",
   "nbconvert_exporter": "python",
   "pygments_lexer": "ipython3",
   "version": "3.9.2"
  }
 },
 "nbformat": 4,
 "nbformat_minor": 5
}
