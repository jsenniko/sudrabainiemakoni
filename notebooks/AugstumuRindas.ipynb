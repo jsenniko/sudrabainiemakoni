{
 "cells": [
  {
   "cell_type": "code",
   "execution_count": null,
   "id": "olympic-framework",
   "metadata": {},
   "outputs": [],
   "source": [
    "import pandas as pd\n",
    "import numpy as np\n",
    "import sys, os\n",
    "import matplotlib.pyplot as plt\n",
    "import skimage.io\n",
    "# ceļu norādīt nevajag, ja pakotne ir instalēta\n",
    "documentpath=os.getcwd()\n",
    "libpath=os.path.abspath(os.path.join(documentpath, os.pardir))\n",
    "sys.path.append(libpath)\n",
    "from sudrabainiemakoni.cloudimage import CloudImage\n",
    "from sudrabainiemakoni.cloudimage import CloudImagePair\n",
    "from sudrabainiemakoni.cloudimage import WebMercatorImage\n",
    "from sudrabainiemakoni import plots"
   ]
  },
  {
   "cell_type": "code",
   "execution_count": null,
   "id": "noticed-princeton",
   "metadata": {},
   "outputs": [],
   "source": [
    "# katalogs ar piemēra failiem\n",
    "sample_directory = 'SampleData'\n",
    "# katalogs ar rezultātu failiem\n",
    "results_directory = 'SampleResults'\n",
    "# pirmais attēls\n",
    "case1 = 'js_202106210100'\n",
    "# otrais attēls\n",
    "case2 = ''"
   ]
  },
  {
   "cell_type": "code",
   "execution_count": null,
   "id": "selected-television",
   "metadata": {},
   "outputs": [],
   "source": [
    "# izveidojam divus CloudImage tipa objektus, katru savam attēlam\n",
    "# Ielasam no faila, pirms tam referencētus attēlus\n",
    "cldim1 = CloudImage.load(f'{results_directory}/{case1}.proj')\n",
    "cldim2 = CloudImage.load(f'{results_directory}/{case2}.proj')\n",
    "print(cldim1)\n",
    "print(cldim2)"
   ]
  },
  {
   "cell_type": "markdown",
   "id": "national-albuquerque",
   "metadata": {},
   "source": [
    "Veidosim neatkarīgas abu sudrabaino mākoņu projicēto attēlu rindas dažādos augstumos\n",
    "Apvienosim attēlus ar dažādām metodēm, šādu attēlu rindu aplūkošana ļauj izprast kā atrast katra mākoņu punkta augstumu - vizuāli vērojot abu attēlu sakrītību "
   ]
  },
  {
   "cell_type": "code",
   "execution_count": null,
   "id": "convinced-england",
   "metadata": {},
   "outputs": [],
   "source": [
    "# augstumu intervāli, kilometros 70-94.5, ik pa 0.5 km\n",
    "heights = np.arange(70, 95, 0.5)"
   ]
  },
  {
   "cell_type": "markdown",
   "id": "sharing-rwanda",
   "metadata": {},
   "source": [
    "### Projicējam uz dažādiem augstumiem divus attēlus"
   ]
  },
  {
   "cell_type": "code",
   "execution_count": null,
   "id": "individual-falls",
   "metadata": {},
   "outputs": [],
   "source": [
    "# projicēšanas apgabals un izšķirtspēja\n",
    "lonmin, lonmax, latmin, latmax, horizontal_resolution_km = 17, 31, 57.6, 62, 0.5"
   ]
  },
  {
   "cell_type": "code",
   "execution_count": null,
   "id": "sublime-contractor",
   "metadata": {},
   "outputs": [],
   "source": [
    "# sagatavojam projicēšanas objektus\n",
    "webmerc1 = WebMercatorImage(cldim1, lonmin, lonmax, latmin, latmax, horizontal_resolution_km)\n",
    "webmerc2 = WebMercatorImage(cldim2, lonmin, lonmax, latmin, latmax, horizontal_resolution_km)"
   ]
  },
  {
   "cell_type": "code",
   "execution_count": null,
   "id": "cross-joyce",
   "metadata": {},
   "outputs": [],
   "source": [
    "# noglabāsim projicētos attēlus TIF failos\n",
    "outdir = f'{results_directory}/projZ'\n",
    "if not os.path.exists(outdir):\n",
    "    os.makedirs(outdir)\n",
    "if not os.path.exists(f'{outdir}/{case1}'):\n",
    "    os.makedirs(f'{outdir}/{case1}')\n",
    "if not os.path.exists(f'{outdir}/{case2}'):\n",
    "    os.makedirs(f'{outdir}/{case2}')"
   ]
  },
  {
   "cell_type": "code",
   "execution_count": null,
   "id": "rocky-cattle",
   "metadata": {},
   "outputs": [],
   "source": [
    "\n",
    "for height in heights:\n",
    "    print('Augstums', height)\n",
    "    sh = f\"{height:.1f}\".replace('.','_')\n",
    "    fn1 = f'{outdir}/{case1}/p_{sh}.jpg'\n",
    "    fn2 = f'{outdir}/{case2}/p_{sh}.jpg'\n",
    "    webmerc1.prepare_reproject_from_camera(height)\n",
    "    projected_image1=webmerc1.Fill_projectedImage()\n",
    "    skimage.io.imsave(fn1, projected_image1)\n",
    "    webmerc2.prepare_reproject_from_camera(height)\n",
    "    projected_image2=webmerc2.Fill_projectedImage()\n",
    "    skimage.io.imsave(fn2, projected_image2)"
   ]
  },
  {
   "cell_type": "code",
   "execution_count": null,
   "id": "regulated-diesel",
   "metadata": {},
   "outputs": [],
   "source": [
    "from sudrabainiemakoni import utils"
   ]
  },
  {
   "cell_type": "code",
   "execution_count": null,
   "id": "bronze-anger",
   "metadata": {},
   "outputs": [],
   "source": [
    "for subdir in ['mean','diff','bicolor']:\n",
    "    if not os.path.exists(f'{outdir}/{subdir}'):\n",
    "        os.makedirs(f'{outdir}/{subdir}')"
   ]
  },
  {
   "cell_type": "code",
   "execution_count": null,
   "id": "reverse-football",
   "metadata": {},
   "outputs": [],
   "source": [
    "# izveidojam dažādu krāsojumu dubultos attēlus\n",
    "for height in heights:\n",
    "    print('Augstums', height)\n",
    "    sh = f\"{height:.1f}\".replace('.','_')\n",
    "    fn1 = f'{outdir}/{case1}/p_{sh}.jpg'\n",
    "    fn2 = f'{outdir}/{case2}/p_{sh}.jpg'\n",
    "    im1=skimage.io.imread(fn1)\n",
    "    im2=skimage.io.imread(fn2)\n",
    "    img_mean, img_diff, _, img_bicolor = utils.getAverageImages([im1,im2])\n",
    "    utils.writeWithText(img_mean, height,f'{outdir}/mean/{case1}_{case2}_{sh}.jpg')\n",
    "    utils.writeWithText(img_diff, height,f'{outdir}/diff/{case1}_{case2}_{sh}.jpg')\n",
    "    utils.writeWithText(img_bicolor[(0,1)], height,f'{outdir}/bicolor/{case1}_{case2}_{sh}.jpg')\n"
   ]
  },
  {
   "cell_type": "markdown",
   "id": "executed-cargo",
   "metadata": {},
   "source": [
    "### Projicējam uz otro attēlu pirmo attēlu caur dažādiem augstumiem (dubultprojicēšana)"
   ]
  },
  {
   "cell_type": "code",
   "execution_count": null,
   "id": "romantic-numbers",
   "metadata": {},
   "outputs": [],
   "source": [
    "imagepair = CloudImagePair(cldim1, cldim2)"
   ]
  },
  {
   "cell_type": "code",
   "execution_count": null,
   "id": "uniform-cardiff",
   "metadata": {},
   "outputs": [],
   "source": [
    "outdir = f'{results_directory}/projZ/proj12'\n",
    "if not os.path.exists(outdir):\n",
    "    os.makedirs(outdir)"
   ]
  },
  {
   "cell_type": "code",
   "execution_count": null,
   "id": "coupled-memory",
   "metadata": {},
   "outputs": [],
   "source": [
    "#  noglabājam attēlu, kur pirmās kameras attēls projicēts uz otrās kameras pozīciju caur fiksētu augstumu\n",
    "for height in heights:\n",
    "    sh = f\"{height:.1f}\".replace('.','_')\n",
    "    imagepair.reproject.prepare_reproject_1_2(height)\n",
    "    projected_image=imagepair.reproject.Fill_projectedImage()\n",
    "    print(f'Double reprojected image {case1} at height {height} km ')\n",
    "    skimage.io.imsave(f\"{outdir}\\\\proj_{case1}_to_{case2}_{sh}.jpg\", projected_image)"
   ]
  },
  {
   "cell_type": "code",
   "execution_count": null,
   "id": "handy-ethics",
   "metadata": {},
   "outputs": [],
   "source": [
    "for subdir in ['mean','diff','bicolor']:\n",
    "    if not os.path.exists(f'{outdir}/{subdir}'):\n",
    "        os.makedirs(f'{outdir}/{subdir}')"
   ]
  },
  {
   "cell_type": "code",
   "execution_count": null,
   "id": "dated-toyota",
   "metadata": {},
   "outputs": [],
   "source": [
    "# izveidojam dažādu krāsojumu dubultos attēlus\n",
    "for height in heights:\n",
    "    imgarr=[cldim2.imagearray]\n",
    "    sh = f\"{height:.1f}\".replace('.','_')\n",
    "    img_=skimage.io.imread(f\"{outdir}\\\\proj_{case1}_to_{case2}_{sh}.jpg\")\n",
    "    imgarr.append(img_)\n",
    "    imgarr=np.array(imgarr)\n",
    "    img_mean, img_diff, _ , img_bicolor = utils.getAverageImages(imgarr)\n",
    "    utils.writeWithText(img_mean, height, f'{outdir}/mean/{case1}_{case2}_{sh}.jpg')\n",
    "    utils.writeWithText(img_diff, height, f'{outdir}/diff/{case1}_{case2}_{sh}.jpg')\n",
    "    utils.writeWithText(img_bicolor[(0,1)], height,f'{outdir}/bicolor/{case1}_{case2}_{sh}.jpg')\n"
   ]
  },
  {
   "cell_type": "code",
   "execution_count": null,
   "id": "manufactured-fighter",
   "metadata": {},
   "outputs": [],
   "source": []
  }
 ],
 "metadata": {
  "kernelspec": {
   "display_name": "Python 3",
   "language": "python",
   "name": "python3"
  },
  "language_info": {
   "codemirror_mode": {
    "name": "ipython",
    "version": 3
   },
   "file_extension": ".py",
   "mimetype": "text/x-python",
   "name": "python",
   "nbconvert_exporter": "python",
   "pygments_lexer": "ipython3",
   "version": "3.9.2"
  }
 },
 "nbformat": 4,
 "nbformat_minor": 5
}
