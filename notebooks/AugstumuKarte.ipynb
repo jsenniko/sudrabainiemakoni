{
 "cells": [
  {
   "cell_type": "code",
   "execution_count": null,
   "id": "interpreted-garlic",
   "metadata": {},
   "outputs": [],
   "source": [
    "import pandas as pd\n",
    "import numpy as np\n",
    "import sys, os\n",
    "import matplotlib.pyplot as plt\n",
    "import skimage.io\n",
    "# ceļu norādīt nevajag, ja pakotne ir instalēta\n",
    "documentpath=os.getcwd()\n",
    "libpath=os.path.abspath(os.path.join(documentpath, os.pardir))\n",
    "sys.path.append(libpath)\n",
    "from sudrabainiemakoni.cloudimage import CloudImage\n",
    "from sudrabainiemakoni.cloudimage import CloudImagePair\n",
    "from sudrabainiemakoni.cloudimage import WebMercatorImage\n",
    "from sudrabainiemakoni import plots"
   ]
  },
  {
   "cell_type": "code",
   "execution_count": null,
   "id": "funky-architecture",
   "metadata": {},
   "outputs": [],
   "source": [
    "# katalogs ar piemēra failiem\n",
    "sample_directory = 'SampleData'\n",
    "# katalogs ar rezultātu failiem\n",
    "results_directory = 'SampleResults'\n",
    "# pirmais attēls\n",
    "case1 = 'js_202106210100'\n",
    "# otrais attēls\n",
    "case2 = ''"
   ]
  },
  {
   "cell_type": "code",
   "execution_count": null,
   "id": "sudden-easter",
   "metadata": {},
   "outputs": [],
   "source": [
    "# izveidojam divus CloudImage tipa objektus, katru savam attēlam\n",
    "# Ielasam no faila, pirms tam referencētus attēlus\n",
    "cldim1 = CloudImage.load(f'{results_directory}/{case1}.proj')\n",
    "cldim2 = CloudImage.load(f'{results_directory}/{case2}.proj')\n",
    "print(cldim1)\n",
    "print(cldim2)"
   ]
  },
  {
   "cell_type": "code",
   "execution_count": null,
   "id": "experimental-shade",
   "metadata": {},
   "outputs": [],
   "source": [
    "# izveidojam CloudImagePair objektu, kas darbojas ar abiem attēliem\n",
    "imagepair = CloudImagePair(cldim1, cldim2)"
   ]
  },
  {
   "cell_type": "code",
   "execution_count": null,
   "id": "medieval-think",
   "metadata": {},
   "outputs": [],
   "source": [
    "# ielasam atbilstības punktu pikseļu koordinātes\n",
    "imagepair.LoadCorrespondances(f\"{sample_directory}/{case1}_{case2}.txt\")"
   ]
  },
  {
   "cell_type": "markdown",
   "id": "geographic-pizza",
   "metadata": {},
   "source": [
    "### Atrodam augstuma punktus"
   ]
  },
  {
   "cell_type": "markdown",
   "id": "outer-cattle",
   "metadata": {},
   "source": [
    "Atrodam kopīgo punktu koordinātes (platums, garums, augstums) (*llh*), attālumu starp stariem uz kopīgajiem punktiem (metros) (*rayminimaldistance*), (*z_intrinsic_error*) - potenciālā kļūda km/px (jo mazāka jo labāk - kopīgie punkti atrodas uz garāka epilīniju nogriežņa), *valid* - iezīme, vai punkts derīgs atbilstoši kritētijiem"
   ]
  },
  {
   "cell_type": "code",
   "execution_count": null,
   "id": "tribal-monaco",
   "metadata": {},
   "outputs": [],
   "source": [
    "llh, rayminimaldistance, z_intrinsic_error, valid = imagepair.GetHeightPoints(*imagepair.correspondances)"
   ]
  },
  {
   "cell_type": "code",
   "execution_count": null,
   "id": "middle-wrist",
   "metadata": {},
   "outputs": [],
   "source": [
    "# sagatavojam punktu datus tabulas formā\n",
    "df_points =pd.DataFrame({'lat':llh[0], 'lon':llh[1], 'z':llh[2], 'Rdist':rayminimaldistance, 'zerr':z_intrinsic_error, 'valid':valid})\n",
    "df_points"
   ]
  },
  {
   "cell_type": "markdown",
   "id": "opposite-quarter",
   "metadata": {},
   "source": [
    "### Izveidojam punktu attēlus"
   ]
  },
  {
   "cell_type": "code",
   "execution_count": null,
   "id": "motivated-contact",
   "metadata": {},
   "outputs": [],
   "source": [
    "# izveidojam punktiem atbilstošos epilīniju nogriežņus augstumu intervālam 75 - 90 km\n",
    "z1, z2 = 75, 90\n",
    "# epilīnijas pirmajā attēlā, kas atbilst punktiem otrajā attēlā\n",
    "epilines = imagepair.GetEpilinesAtHeightInterval([z1,z2],imagepair.correspondances[1], False)\n",
    "# izvadām punktu attēlus\n",
    "plots.PlotValidHeightPoints(cldim1.imagearray,epilines,imagepair.correspondances[0] , llh[2], valid,\n",
    "                            filename = f\"{results_directory}/heights_points_{case1}_{case2}.jpg\")\n",
    "plots.PlotValidHeightPoints(cldim1.imagearray,epilines,imagepair.correspondances[0] , llh[2], None,\n",
    "                            filename = f\"{results_directory}/heights_points_{case1}_{case2}_all.jpg\")\n"
   ]
  },
  {
   "cell_type": "code",
   "execution_count": null,
   "id": "wrapped-spirituality",
   "metadata": {},
   "outputs": [],
   "source": [
    "# epilīnijas otrajā attēlā, kas atbilst punktiem pirmajā attēlā\n",
    "epilines = imagepair.GetEpilinesAtHeightInterval([z1,z2],imagepair.correspondances[0], True)\n",
    "# izvadām punktu attēlus\n",
    "plots.PlotValidHeightPoints(cldim2.imagearray,epilines,imagepair.correspondances[1] , llh[2], valid,\n",
    "                            filename = f\"{results_directory}/heights_points_{case2}_{case1}.jpg\")\n",
    "plots.PlotValidHeightPoints(cldim2.imagearray,epilines,imagepair.correspondances[1] , llh[2], None,\n",
    "                            filename = f\"{results_directory}/heights_points_{case2}_{case1}_all.jpg\")"
   ]
  },
  {
   "cell_type": "markdown",
   "id": "disabled-documentary",
   "metadata": {},
   "source": [
    "### Izveidojam interpolētu augstumu sadalījumu  "
   ]
  },
  {
   "cell_type": "markdown",
   "id": "nominated-dodge",
   "metadata": {},
   "source": [
    "Veidosim to ar *webmerc* tipa objekta palīdzību uz tā paša režģa, uz kura projicējām attēlus  \n",
    "Lietosim projicētos punktus no pirmā attēla"
   ]
  },
  {
   "cell_type": "code",
   "execution_count": null,
   "id": "worldwide-brooks",
   "metadata": {},
   "outputs": [],
   "source": [
    "# projicēšanas apgabals un izšķirtspēja\n",
    "lonmin, lonmax, latmin, latmax, horizontal_resolution_km = 15, 35, 57, 64, 0.5"
   ]
  },
  {
   "cell_type": "code",
   "execution_count": null,
   "id": "acting-destruction",
   "metadata": {},
   "outputs": [],
   "source": [
    "# sagatavojam projicēšanas objektu\n",
    "webmerc = WebMercatorImage(cldim1, lonmin, lonmax, latmin, latmax, horizontal_resolution_km)\n",
    "webmerc2 = WebMercatorImage(cldim2, lonmin, lonmax, latmin, latmax, horizontal_resolution_km)"
   ]
  },
  {
   "cell_type": "code",
   "execution_count": null,
   "id": "tested-phase",
   "metadata": {},
   "outputs": [],
   "source": [
    "# veidojam interpolēto augstumu sadalījumu ar *kriging* palīdzību, no derīgajiem punktiem\n",
    "heightgrid = webmerc.PrepareHeightMap(llh[1][valid],llh[0][valid],llh[2][valid])"
   ]
  },
  {
   "cell_type": "code",
   "execution_count": null,
   "id": "imperial-destination",
   "metadata": {},
   "outputs": [],
   "source": [
    "# varam noglabāt augstumu masīvu failā\n",
    "np.save(f\"{results_directory}/heightmap_{case1}_{case2}.npy\", heightgrid)"
   ]
  },
  {
   "cell_type": "code",
   "execution_count": null,
   "id": "chubby-november",
   "metadata": {},
   "outputs": [],
   "source": [
    "# attēls ātrai vizuālai kontrolei\n",
    "fig, ax=plt.subplots(figsize=(20,10))\n",
    "cs=ax.imshow(heightgrid)\n",
    "fig.colorbar(cs)\n",
    "plt.show()"
   ]
  },
  {
   "cell_type": "code",
   "execution_count": null,
   "id": "awful-rotation",
   "metadata": {},
   "outputs": [],
   "source": [
    "# augstumu sadalījums uz kartes vizuālai kontrolei\n",
    "map_lonmin, map_lonmax, map_latmin, map_latmax = 15,33,56,64\n",
    "pp=[[cldim1.location.lon.value, cldim1.location.lat.value]]\n",
    "plots.PlotReferencedImages(webmerc, [heightgrid],  camera_points=pp,\n",
    "                               outputFileName=None,\n",
    "                               lonmin=map_lonmin, lonmax=map_lonmax, latmin=map_latmin, latmax=map_latmax,\n",
    "                               showplot=True,\n",
    "                               alpha=0.8)\n"
   ]
  },
  {
   "cell_type": "markdown",
   "id": "communist-facility",
   "metadata": {},
   "source": [
    "### Projicējam abus attēlus ņemot vērā augstumu sadalījumu"
   ]
  },
  {
   "cell_type": "markdown",
   "id": "dynamic-fourth",
   "metadata": {},
   "source": [
    "Šeit var lietot visas *Projicet* piemēra metodes, ko darīt ar projicētiem attēliem"
   ]
  },
  {
   "cell_type": "code",
   "execution_count": null,
   "id": "suffering-volume",
   "metadata": {},
   "outputs": [],
   "source": [
    "# izveidojam abus projicētos attēlus\n",
    "webmerc.prepare_reproject_from_camera(heightgrid/1000)\n",
    "projected_image_hght=webmerc.Fill_projectedImageMasked()\n",
    "webmerc2.prepare_reproject_from_camera(heightgrid/1000)\n",
    "projected_image_hght2=webmerc2.Fill_projectedImageMasked()"
   ]
  },
  {
   "cell_type": "markdown",
   "id": "everyday-adrian",
   "metadata": {},
   "source": [
    "Izveidojam abus projicētos attēlus atsevišķi un arī kopā uz kartes pamatnes fona"
   ]
  },
  {
   "cell_type": "code",
   "execution_count": null,
   "id": "looking-canal",
   "metadata": {},
   "outputs": [],
   "source": [
    "# novērotāju punkti\n",
    "p1=[cldim1.location.lon.value, cldim1.location.lat.value]\n",
    "p2=[cldim2.location.lon.value, cldim2.location.lat.value]\n",
    "pp=[p1,p2]\n",
    "# kopīgs attēls\n",
    "plots.PlotReferencedImages(webmerc, [projected_image_hght, projected_image_hght2],\n",
    "                           camera_points=pp,\n",
    "                           showplot=True,\n",
    "                           outputFileName=None) #f'{results_directory}/georeferenced_{case1}_{case2}_mapview.jpg')"
   ]
  },
  {
   "cell_type": "code",
   "execution_count": null,
   "id": "palestinian-dubai",
   "metadata": {},
   "outputs": [],
   "source": [
    "# atsevišķie attēli\n",
    "plots.PlotReferencedImages(webmerc, [projected_image_hght],camera_points=pp[0:1],\n",
    "                           outputFileName=f'{results_directory}/georeferenced_{case1}_mapview.jpg')\n",
    "plots.PlotReferencedImages(webmerc, [projected_image_hght2],camera_points=pp[1:2],\n",
    "                           outputFileName=f'{results_directory}/georeferenced_{case2}_mapview.jpg')"
   ]
  }
 ],
 "metadata": {
  "kernelspec": {
   "display_name": "Python 3",
   "language": "python",
   "name": "python3"
  },
  "language_info": {
   "codemirror_mode": {
    "name": "ipython",
    "version": 3
   },
   "file_extension": ".py",
   "mimetype": "text/x-python",
   "name": "python",
   "nbconvert_exporter": "python",
   "pygments_lexer": "ipython3",
   "version": "3.9.2"
  }
 },
 "nbformat": 4,
 "nbformat_minor": 5
}
